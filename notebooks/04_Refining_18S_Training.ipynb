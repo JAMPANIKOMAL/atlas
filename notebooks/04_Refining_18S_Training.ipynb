{
 "cells": [
  {
   "cell_type": "markdown",
   "id": "8477e711-f561-415a-a736-dffd202354b8",
   "metadata": {},
   "source": [
    "# 18S Model Training and Evaluation\n",
    "\n",
    "**Objective:** To build, train, and evaluate a deep learning classifier for the 18S rRNA gene (Eukaryotes) using the pre-processed data.\n",
    "\n",
    "**Methodology:**\n",
    "1. Load the 18S-specific training/testing data and encoders from disk.\n",
    "2. Define the neural network architecture.\n",
    "3. Train the model on the training data using the GPU.\n",
    "4. Save, reload, and evaluate the final model's accuracy on the unseen test set."
   ]
  },
  {
   "cell_type": "code",
   "execution_count": 1,
   "id": "cfbd40b8-8e82-4b8c-865d-4e96c71c939c",
   "metadata": {},
   "outputs": [
    {
     "name": "stdout",
     "output_type": "stream",
     "text": [
      "--- TensorFlow Setup ---\n",
      "TensorFlow Version: 2.10.1\n",
      "GPU detected: PhysicalDevice(name='/physical_device:GPU:0', device_type='GPU')\n",
      "--------------------------\n"
     ]
    }
   ],
   "source": [
    "import numpy as np\n",
    "import tensorflow as tf\n",
    "from scipy.sparse import load_npz\n",
    "import pickle\n",
    "from pathlib import Path\n",
    "import sys\n",
    "\n",
    "# Set up project path\n",
    "project_root = Path.cwd().parent\n",
    "\n",
    "# --- Verification Step: Check for GPU ---\n",
    "print(\"--- TensorFlow Setup ---\")\n",
    "print(f\"TensorFlow Version: {tf.__version__}\")\n",
    "gpu_devices = tf.config.list_physical_devices('GPU')\n",
    "if gpu_devices:\n",
    "    print(f\"GPU detected: {gpu_devices[0]}\")\n",
    "else:\n",
    "    print(\"WARNING: No GPU detected. TensorFlow will run on CPU.\")\n",
    "print(\"-\" * 26)"
   ]
  },
  {
   "cell_type": "code",
   "execution_count": null,
   "id": "4a70ef60-91ba-4250-b5f5-4bf149d984dc",
   "metadata": {},
   "outputs": [],
   "source": []
  }
 ],
 "metadata": {
  "kernelspec": {
   "display_name": "Python 3 (ipykernel)",
   "language": "python",
   "name": "python3"
  },
  "language_info": {
   "codemirror_mode": {
    "name": "ipython",
    "version": 3
   },
   "file_extension": ".py",
   "mimetype": "text/x-python",
   "name": "python",
   "nbconvert_exporter": "python",
   "pygments_lexer": "ipython3",
   "version": "3.10.18"
  }
 },
 "nbformat": 4,
 "nbformat_minor": 5
}
