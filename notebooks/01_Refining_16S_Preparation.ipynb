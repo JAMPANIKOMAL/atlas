{
 "cells": [
  {
   "cell_type": "markdown",
   "id": "90dc9749-67fb-4b6b-b8a8-f48600f33a69",
   "metadata": {},
   "source": [
    "# 16S Data Preparation: Refinement and Development\n",
    "\n",
    "**Objective:** Refine the data preparation pipeline for the 16S rRNA gene (Bacteria & Archaea). \n",
    "\n",
    "**Methodology:**\n",
    "1. Start with a small, manageable sample of the full SILVA database.\n",
    "2. Interactively develop and test each step of the pipeline (Filtering, Parsing, K-mer Counting, Vectorizing).\n",
    "3. Ensure the logic is robust before converting it to a final `.py` script."
   ]
  },
  {
   "cell_type": "code",
   "execution_count": 1,
   "id": "f0e806a1-9866-455a-908e-723f29c7390d",
   "metadata": {},
   "outputs": [
    {
     "name": "stdout",
     "output_type": "stream",
     "text": [
      "Project Root: C:\\Users\\jampa\\Music\\atlas-v3\n"
     ]
    }
   ],
   "source": [
    "import pandas as pd\n",
    "import numpy as np\n",
    "from Bio import SeqIO\n",
    "from tqdm.auto import tqdm\n",
    "from pathlib import Path\n",
    "import sys\n",
    "\n",
    "# Add the project root to the Python path to allow for module imports if needed later\n",
    "project_root = Path.cwd().parent\n",
    "sys.path.append(str(project_root))\n",
    "\n",
    "print(f\"Project Root: {project_root}\")"
   ]
  },
  {
   "cell_type": "code",
   "execution_count": 2,
   "id": "a8e08f9e-f8f7-452f-ae27-fe9f6dbef08a",
   "metadata": {},
   "outputs": [],
   "source": [
    "RAW_DATA_DIR = project_root / \"data\" / \"raw\"\n",
    "PROCESSED_DATA_DIR = project_root / \"data\" / \"processed\"\n",
    "\n",
    "# Create the processed data directory if it doesn't exist yet\n",
    "PROCESSED_DATA_DIR.mkdir(parents=True, exist_ok=True)\n",
    "\n",
    "# Path to the full, original SILVA database file\n",
    "FULL_SILVA_PATH = RAW_DATA_DIR / \"SILVA_138.1_SSURef_NR99_tax_silva.fasta\"\n",
    "\n",
    "# Path to the small sample file we will create for development\n",
    "SAMPLE_SILVA_PATH = RAW_DATA_DIR / \"SILVA_sample_10k.fasta\""
   ]
  },
  {
   "cell_type": "markdown",
   "id": "7bbdbdd4-2e5f-4a3b-a23a-cfbe6788f413",
   "metadata": {},
   "source": [
    "### Step 1: Create a Small Sample for Development\n",
    "\n",
    "We will read the first 10,000 sequences from the full SILVA database and save them to a new file. This allows us to develop the rest of the pipeline quickly without waiting for the full dataset to process."
   ]
  },
  {
   "cell_type": "code",
   "execution_count": 4,
   "id": "78a8ecfd-ea9d-4782-aa13-d6f1d9fe2da0",
   "metadata": {},
   "outputs": [
    {
     "name": "stdout",
     "output_type": "stream",
     "text": [
      "Full SILVA file found. Creating a sample of 10000 sequences...\n",
      "This may take a moment...\n"
     ]
    },
    {
     "data": {
      "application/vnd.jupyter.widget-view+json": {
       "model_id": "8878baac321845fcb062c13a938b93d7",
       "version_major": 2,
       "version_minor": 0
      },
      "text/plain": [
       "  0%|          | 0/10000 [00:00<?, ?it/s]"
      ]
     },
     "metadata": {},
     "output_type": "display_data"
    },
    {
     "name": "stdout",
     "output_type": "stream",
     "text": [
      "✅ Successfully created sample file with 10000 sequences.\n",
      "   Location: C:\\Users\\jampa\\Music\\atlas-v3\\data\\raw\\SILVA_sample_10k.fasta\n"
     ]
    }
   ],
   "source": [
    "SAMPLE_SIZE = 10000\n",
    "\n",
    "# We only create the file if it doesn't already exist.\n",
    "# This saves time if we have to re-run the notebook.\n",
    "if not SAMPLE_SILVA_PATH.exists():\n",
    "    print(f\"Full SILVA file found. Creating a sample of {SAMPLE_SIZE} sequences...\")\n",
    "    print(f\"This may take a moment...\")\n",
    "    \n",
    "    # Use a progress bar to see what's happening\n",
    "    with open(FULL_SILVA_PATH, \"r\") as handle_in:\n",
    "        # Use a generator expression for memory efficiency\n",
    "        records_iterator = (record for record in SeqIO.parse(handle_in, \"fasta\"))\n",
    "        \n",
    "        sample_records = []\n",
    "        for i, record in tqdm(enumerate(records_iterator), total=SAMPLE_SIZE):\n",
    "            if i >= SAMPLE_SIZE:\n",
    "                break\n",
    "            sample_records.append(record)\n",
    "            \n",
    "    # Write the collected sample records to the new file\n",
    "    with open(SAMPLE_SILVA_PATH, \"w\") as handle_out:\n",
    "        SeqIO.write(sample_records, handle_out, \"fasta\")\n",
    "        \n",
    "    print(f\"✅ Successfully created sample file with {len(sample_records)} sequences.\")\n",
    "    print(f\"   Location: {SAMPLE_SILVA_PATH}\")\n",
    "else:\n",
    "    print(f\"✅ Sample file already exists. No action needed.\")\n",
    "    print(f\"   Location: {SAMPLE_SILVA_PATH}\")"
   ]
  },
  {
   "cell_type": "markdown",
   "id": "7db2dfac-2bd0-4178-951c-b4a4a20039af",
   "metadata": {},
   "source": [
    "### Step 2: Filter the Sample for Prokaryotes (Bacteria & Archaea)\n",
    "\n",
    "Now we will read our `SILVA_sample_10k.fasta` file and create a list in memory containing only the records that are explicitly labeled as \"Bacteria\" or \"Archaea\"."
   ]
  },
  {
   "cell_type": "code",
   "execution_count": 5,
   "id": "3259ee84-967c-4236-9f5c-9fcd22d1f5cf",
   "metadata": {},
   "outputs": [
    {
     "name": "stdout",
     "output_type": "stream",
     "text": [
      "Reading from sample file: C:\\Users\\jampa\\Music\\atlas-v3\\data\\raw\\SILVA_sample_10k.fasta\n"
     ]
    },
    {
     "data": {
      "application/vnd.jupyter.widget-view+json": {
       "model_id": "54412ecd45e74cd3a5a68eed0f7b1701",
       "version_major": 2,
       "version_minor": 0
      },
      "text/plain": [
       "  0%|          | 0/10000 [00:00<?, ?it/s]"
      ]
     },
     "metadata": {},
     "output_type": "display_data"
    },
    {
     "name": "stdout",
     "output_type": "stream",
     "text": [
      "\n",
      "--- Filtering Summary ---\n",
      "Total sequences in sample: 10000\n",
      "Found 6883 prokaryote sequences.\n",
      "✅ Filtering complete.\n"
     ]
    }
   ],
   "source": [
    "prokaryote_records = []\n",
    "\n",
    "# We use tqdm again to see the progress\n",
    "print(f\"Reading from sample file: {SAMPLE_SILVA_PATH}\")\n",
    "\n",
    "with open(SAMPLE_SILVA_PATH, \"r\") as handle:\n",
    "    for record in tqdm(SeqIO.parse(handle, \"fasta\"), total=SAMPLE_SIZE):\n",
    "        # The description line contains the full taxonomy string\n",
    "        description = record.description.lower() # Use .lower() for a case-insensitive match\n",
    "        \n",
    "        if \"bacteria\" in description or \"archaea\" in description:\n",
    "            prokaryote_records.append(record)\n",
    "\n",
    "# Print a summary to verify the result\n",
    "print(\"\\n--- Filtering Summary ---\")\n",
    "print(f\"Total sequences in sample: {SAMPLE_SIZE}\")\n",
    "print(f\"Found {len(prokaryote_records)} prokaryote sequences.\")\n",
    "print(f\"✅ Filtering complete.\")"
   ]
  },
  {
   "cell_type": "code",
   "execution_count": null,
   "id": "403f1c52-cd7e-4b40-8a16-ba91763aa7fa",
   "metadata": {},
   "outputs": [],
   "source": []
  }
 ],
 "metadata": {
  "kernelspec": {
   "display_name": "Python 3 (ipykernel)",
   "language": "python",
   "name": "python3"
  },
  "language_info": {
   "codemirror_mode": {
    "name": "ipython",
    "version": 3
   },
   "file_extension": ".py",
   "mimetype": "text/x-python",
   "name": "python",
   "nbconvert_exporter": "python",
   "pygments_lexer": "ipython3",
   "version": "3.10.18"
  }
 },
 "nbformat": 4,
 "nbformat_minor": 5
}
