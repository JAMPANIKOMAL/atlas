{
 "cells": [
  {
   "cell_type": "markdown",
   "id": "fa0cb662-8edb-4e6b-aeae-a2b7fd00132c",
   "metadata": {},
   "source": [
    "# COI Data Preparation: Refinement and Development\n",
    "\n",
    "**Objective:** Refine the data preparation pipeline for the COI gene, the primary barcode for animal identification, using the BOLD database.\n",
    "\n",
    "**Methodology:**\n",
    "1.  Work from a small, manageable sample of the full BOLD database.\n",
    "2.  Develop a new taxonomy parser specifically designed for the pipe-separated (`|`) format of BOLD FASTA headers.\n",
    "3.  Apply the full data cleaning and feature engineering workflow.\n",
    "4.  Save the final, uniquely named artifacts for the COI pipeline."
   ]
  },
  {
   "cell_type": "code",
   "execution_count": 1,
   "id": "9544b2c0-fdfc-487e-ba7f-1da3bb40981c",
   "metadata": {},
   "outputs": [
    {
     "name": "stdout",
     "output_type": "stream",
     "text": [
      "Project Root: C:\\Users\\jampa\\Music\\atlas-v3\n"
     ]
    }
   ],
   "source": [
    "import pandas as pd\n",
    "import numpy as np\n",
    "from Bio import SeqIO\n",
    "from tqdm.auto import tqdm\n",
    "from pathlib import Path\n",
    "import sys\n",
    "\n",
    "# Set up project path\n",
    "project_root = Path.cwd().parent\n",
    "\n",
    "# --- Verification Step ---\n",
    "print(f\"Project Root: {project_root}\")"
   ]
  },
  {
   "cell_type": "code",
   "execution_count": 3,
   "id": "37d4c780-3ee8-4b26-b585-7c4090a5b1d0",
   "metadata": {},
   "outputs": [
    {
     "name": "stdout",
     "output_type": "stream",
     "text": [
      "Source BOLD database found.\n",
      "  - Location: C:\\Users\\jampa\\Music\\atlas-v3\\data\\raw\\BOLD_Public.29-Aug-2025.fasta\n"
     ]
    }
   ],
   "source": [
    "# --- Define Core Directories ---\n",
    "RAW_DATA_DIR = project_root / \"data\" / \"raw\"\n",
    "PROCESSED_DATA_DIR = project_root / \"data\" / \"processed\"\n",
    "PROCESSED_DATA_DIR.mkdir(parents=True, exist_ok=True)\n",
    "\n",
    "# --- Define COI Specific File Paths ---\n",
    "\n",
    "# --- FIX: Use the exact filename of the downloaded BOLD database ---\n",
    "# Path to the full, original BOLD database file\n",
    "FULL_BOLD_PATH = RAW_DATA_DIR / \"BOLD_Public.29-Aug-2025.fasta\"\n",
    "\n",
    "# Path to the small sample file we will create for development\n",
    "SAMPLE_BOLD_PATH = RAW_DATA_DIR / \"BOLD_sample_10k.fasta\"\n",
    "\n",
    "# --- Verification Step ---\n",
    "if FULL_BOLD_PATH.exists():\n",
    "    print(\"Source BOLD database found.\")\n",
    "    print(f\"  - Location: {FULL_BOLD_PATH}\")\n",
    "else:\n",
    "    print(f\"ERROR: The source BOLD database was not found at the expected location.\")\n",
    "    print(f\"  - Expected: {FULL_BOLD_PATH}\")\n",
    "    print(\"Please ensure the file is downloaded and correctly named in the 'data/raw' directory.\")"
   ]
  },
  {
   "cell_type": "code",
   "execution_count": 4,
   "id": "d99a1dfd-91b0-49af-910a-9b2b27cb504e",
   "metadata": {},
   "outputs": [
    {
     "name": "stdout",
     "output_type": "stream",
     "text": [
      "Creating a sample of 10000 sequences from the BOLD database...\n"
     ]
    },
    {
     "data": {
      "application/vnd.jupyter.widget-view+json": {
       "model_id": "fb02e44bfa684ccf973165c15cb008d3",
       "version_major": 2,
       "version_minor": 0
      },
      "text/plain": [
       "Sampling BOLD DB:   0%|          | 0/10000 [00:00<?, ?it/s]"
      ]
     },
     "metadata": {},
     "output_type": "display_data"
    },
    {
     "name": "stdout",
     "output_type": "stream",
     "text": [
      "\n",
      "Successfully created sample file with 10000 sequences.\n",
      "   Location: C:\\Users\\jampa\\Music\\atlas-v3\\data\\raw\\BOLD_sample_10k.fasta\n"
     ]
    }
   ],
   "source": [
    "# =============================================================================\n",
    "# STEP 1: CREATE A DEVELOPMENT SAMPLE FROM BOLD DATA\n",
    "# =============================================================================\n",
    "#\n",
    "# OBJECTIVE:\n",
    "#   To create a smaller 10,000-sequence sample from the full BOLD database.\n",
    "#\n",
    "# RATIONALE:\n",
    "#   Working with a smaller sample allows for rapid, interactive development\n",
    "#   and debugging of the subsequent parsing and cleaning steps without the\n",
    "#   long processing times required for the full dataset. This script is\n",
    "#   designed to be run only once; if the sample file is found, this\n",
    "#   step will be skipped.\n",
    "#\n",
    "# =============================================================================\n",
    "\n",
    "# --- Configuration ---\n",
    "SAMPLE_SIZE = 10000\n",
    "\n",
    "# --- Main Logic ---\n",
    "# This check prevents us from re-running this process unnecessarily.\n",
    "if not SAMPLE_BOLD_PATH.exists():\n",
    "    print(f\"Creating a sample of {SAMPLE_SIZE} sequences from the BOLD database...\")\n",
    "    \n",
    "    sample_records = []\n",
    "    # Open the full BOLD database file for reading\n",
    "    with open(FULL_BOLD_PATH, \"r\") as handle_in:\n",
    "        # Create an efficient iterator over the FASTA records\n",
    "        records_iterator = (record for record in SeqIO.parse(handle_in, \"fasta\"))\n",
    "        \n",
    "        # Use tqdm to show a progress bar while iterating\n",
    "        for i, record in tqdm(enumerate(records_iterator), total=SAMPLE_SIZE, desc=\"Sampling BOLD DB\"):\n",
    "            # Stop once we have collected the desired number of samples\n",
    "            if i >= SAMPLE_SIZE:\n",
    "                break\n",
    "            sample_records.append(record)\n",
    "            \n",
    "    # Write the collected records to our new sample file\n",
    "    with open(SAMPLE_BOLD_PATH, \"w\") as handle_out:\n",
    "        SeqIO.write(sample_records, handle_out, \"fasta\")\n",
    "        \n",
    "    print(f\"\\nSuccessfully created sample file with {len(sample_records)} sequences.\")\n",
    "    print(f\"   Location: {SAMPLE_BOLD_PATH}\")\n",
    "else:\n",
    "    print(f\"BOLD sample file already exists. No action needed.\")\n",
    "    print(f\"   Location: {SAMPLE_BOLD_PATH}\")"
   ]
  },
  {
   "cell_type": "code",
   "execution_count": null,
   "id": "dad3abc1-ff3f-48ec-9e4a-58b63b5e7215",
   "metadata": {},
   "outputs": [],
   "source": []
  }
 ],
 "metadata": {
  "kernelspec": {
   "display_name": "Python 3 (ipykernel)",
   "language": "python",
   "name": "python3"
  },
  "language_info": {
   "codemirror_mode": {
    "name": "ipython",
    "version": 3
   },
   "file_extension": ".py",
   "mimetype": "text/x-python",
   "name": "python",
   "nbconvert_exporter": "python",
   "pygments_lexer": "ipython3",
   "version": "3.10.18"
  }
 },
 "nbformat": 4,
 "nbformat_minor": 5
}
