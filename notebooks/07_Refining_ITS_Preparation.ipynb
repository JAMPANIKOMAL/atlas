{
 "cells": [
  {
   "cell_type": "code",
   "execution_count": 1,
   "id": "b3e9c723-7971-4464-a13a-595cee3f60e2",
   "metadata": {},
   "outputs": [
    {
     "name": "stdout",
     "output_type": "stream",
     "text": [
      "Project Root: C:\\Users\\jampa\\Music\\atlas\n",
      "\n",
      "Source UNITE database archive found.\n",
      "  - Location: C:\\Users\\jampa\\Music\\atlas\\data\\raw\\sh_general_release_19.02.2025.tgz\n"
     ]
    }
   ],
   "source": [
    "#\n",
    "# -----------------------------------------------------------------------------\n",
    "#\n",
    "#                           ATLAS v3: ITS Data Preparation (Fungi)\n",
    "#\n",
    "# -----------------------------------------------------------------------------\n",
    "#\n",
    "#   OBJECTIVE:\n",
    "#\n",
    "#       Refine the data preparation pipeline for the ITS (Internal Transcribed\n",
    "#       Spacer) region, the primary barcode for fungi identification, using\n",
    "#       the UNITE database.\n",
    "#\n",
    "#   METHODOLOGY:\n",
    "#\n",
    "#       1.  Create a Development Sample: Extract a small, manageable sample\n",
    "#           from the full UNITE database (`.tgz` archive) to enable rapid,\n",
    "#           interactive development.\n",
    "#       2.  Develop a Custom Parser: Create a new taxonomy parser specifically\n",
    "#           designed for the UNITE database's `k__Fungi;p__Ascomycota;...`\n",
    "#           header format.\n",
    "#       3.  Clean and Process: Apply the full data cleaning and feature\n",
    "#           engineering workflow (k-mer counting, vectorizing, splitting).\n",
    "#       4.  Save Artifacts: Save the final, model-ready artifacts for the ITS\n",
    "#           pipeline.\n",
    "#\n",
    "# -----------------------------------------------------------------------------\n",
    "#\n",
    "\n",
    "# --- Imports ---\n",
    "import pandas as pd\n",
    "import numpy as np\n",
    "from Bio import SeqIO\n",
    "from tqdm.auto import tqdm\n",
    "from pathlib import Path\n",
    "import sys\n",
    "import tarfile # Required for reading from .tgz archives\n",
    "import io      # Required for stream handling\n",
    "\n",
    "# --- Setup Project Path ---\n",
    "# This ensures that the notebook can find the project's root directory\n",
    "try:\n",
    "    project_root = Path(__file__).parent.parent\n",
    "except NameError:\n",
    "    project_root = Path.cwd().parent\n",
    "print(f\"Project Root: {project_root}\")\n",
    "\n",
    "# --- Define Core Directories ---\n",
    "RAW_DATA_DIR = project_root / \"data\" / \"raw\"\n",
    "PROCESSED_DATA_DIR = project_root / \"data\" / \"processed\"\n",
    "PROCESSED_DATA_DIR.mkdir(parents=True, exist_ok=True)\n",
    "\n",
    "# --- Define ITS Specific File Paths ---\n",
    "\n",
    "# --- NOTE: Update this filename if you download a different UNITE release ---\n",
    "FULL_UNITE_PATH = RAW_DATA_DIR / \"sh_general_release_19.02.2025.tgz\"\n",
    "\n",
    "# Path to the small sample file we will create for development\n",
    "SAMPLE_UNITE_PATH = RAW_DATA_DIR / \"UNITE_sample_10k.fasta\"\n",
    "\n",
    "# --- Verification Step ---\n",
    "if FULL_UNITE_PATH.exists():\n",
    "    print(f\"\\nSource UNITE database archive found.\")\n",
    "    print(f\"  - Location: {FULL_UNITE_PATH}\")\n",
    "else:\n",
    "    print(f\"\\n[ERROR] The source UNITE database archive was not found.\")\n",
    "    print(f\"  - Expected: {FULL_UNITE_PATH}\")\n",
    "    print(\"        Please ensure the file is downloaded and correctly named in the 'data/raw' directory.\")"
   ]
  },
  {
   "cell_type": "code",
   "execution_count": 2,
   "id": "74bc3d6c-607b-46df-ad82-248cdadeba4d",
   "metadata": {},
   "outputs": [
    {
     "name": "stdout",
     "output_type": "stream",
     "text": [
      "Creating a sample of 10000 sequences from the UNITE archive...\n",
      "This may take a moment...\n",
      "  - Found FASTA file in archive: sh_general_release_dynamic_19.02.2025.fasta\n"
     ]
    },
    {
     "data": {
      "application/vnd.jupyter.widget-view+json": {
       "model_id": "9047316464fa49aeafa5783f3b727f2d",
       "version_major": 2,
       "version_minor": 0
      },
      "text/plain": [
       "  - Sampling records:   0%|          | 0/10000 [00:00<?, ?it/s]"
      ]
     },
     "metadata": {},
     "output_type": "display_data"
    },
    {
     "name": "stdout",
     "output_type": "stream",
     "text": [
      "\n",
      "[SUCCESS] Created sample file with 10000 sequences.\n",
      "  - Location: C:\\Users\\jampa\\Music\\atlas\\data\\raw\\UNITE_sample_10k.fasta\n"
     ]
    }
   ],
   "source": [
    "#\n",
    "# -----------------------------------------------------------------------------\n",
    "#\n",
    "#       STEP 1: CREATE A DEVELOPMENT SAMPLE FROM THE UNITE ARCHIVE\n",
    "#\n",
    "# -----------------------------------------------------------------------------\n",
    "#\n",
    "#   OBJECTIVE:\n",
    "#\n",
    "#       To extract the first 10,000 sequences from the main FASTA file\n",
    "#       contained within the UNITE `.tgz` archive.\n",
    "#\n",
    "#   RATIONALE:\n",
    "#\n",
    "#       Working with a smaller sample file (`UNITE_sample_10k.fasta`) allows\n",
    "#       for rapid, interactive development and debugging of the subsequent\n",
    "#       parsing and cleaning steps. This script is designed to be run only\n",
    "#       once; if the sample file is found, this step will be skipped.\n",
    "#\n",
    "# -----------------------------------------------------------------------------\n",
    "#\n",
    "\n",
    "# --- Configuration ---\n",
    "SAMPLE_SIZE = 10000\n",
    "\n",
    "# --- Main Logic ---\n",
    "# This check prevents us from re-running this process unnecessarily.\n",
    "if not SAMPLE_UNITE_PATH.exists():\n",
    "    print(f\"Creating a sample of {SAMPLE_SIZE} sequences from the UNITE archive...\")\n",
    "    print(\"This may take a moment...\")\n",
    "\n",
    "    sample_records = []\n",
    "    try:\n",
    "        # Open the .tgz archive for reading\n",
    "        with tarfile.open(FULL_UNITE_PATH, \"r:gz\") as tar:\n",
    "            # Find the main FASTA file within the archive\n",
    "            fasta_member = None\n",
    "            for member in tar.getmembers():\n",
    "                if member.name.endswith('.fasta'):\n",
    "                    fasta_member = member\n",
    "                    break\n",
    "\n",
    "            if fasta_member:\n",
    "                print(f\"  - Found FASTA file in archive: {fasta_member.name}\")\n",
    "                # Extract the file content into an in-memory text stream\n",
    "                fasta_file = tar.extractfile(fasta_member)\n",
    "                fasta_stream = io.TextIOWrapper(fasta_file, encoding=\"utf-8\")\n",
    "\n",
    "                # Parse the stream and collect the sample records with a progress bar\n",
    "                records_iterator = SeqIO.parse(fasta_stream, \"fasta\")\n",
    "                for i, record in tqdm(enumerate(records_iterator), total=SAMPLE_SIZE, desc=\"  - Sampling records\"):\n",
    "                    if i >= SAMPLE_SIZE:\n",
    "                        break\n",
    "                    sample_records.append(record)\n",
    "\n",
    "                # Write the collected records to our new sample file\n",
    "                with open(SAMPLE_UNITE_PATH, \"w\") as handle_out:\n",
    "                    SeqIO.write(sample_records, handle_out, \"fasta\")\n",
    "\n",
    "                print(f\"\\n[SUCCESS] Created sample file with {len(sample_records)} sequences.\")\n",
    "                print(f\"  - Location: {SAMPLE_UNITE_PATH}\")\n",
    "            else:\n",
    "                print(\"\\n[ERROR] No .fasta file was found inside the .tgz archive.\")\n",
    "\n",
    "    except Exception as e:\n",
    "        print(f\"\\n[ERROR] An error occurred while processing the archive: {e}\")\n",
    "\n",
    "else:\n",
    "    print(f\"UNITE sample file already exists. No action needed.\")\n",
    "    print(f\"  - Location: {SAMPLE_UNITE_PATH}\")"
   ]
  },
  {
   "cell_type": "code",
   "execution_count": null,
   "id": "5191d0ef-b491-4748-b2c8-73c4772982a7",
   "metadata": {},
   "outputs": [],
   "source": []
  }
 ],
 "metadata": {
  "kernelspec": {
   "display_name": "Python 3 (ipykernel)",
   "language": "python",
   "name": "python3"
  },
  "language_info": {
   "codemirror_mode": {
    "name": "ipython",
    "version": 3
   },
   "file_extension": ".py",
   "mimetype": "text/x-python",
   "name": "python",
   "nbconvert_exporter": "python",
   "pygments_lexer": "ipython3",
   "version": "3.10.18"
  }
 },
 "nbformat": 4,
 "nbformat_minor": 5
}
