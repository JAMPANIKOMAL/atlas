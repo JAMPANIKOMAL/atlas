{
 "cells": [
  {
   "cell_type": "code",
   "execution_count": 1,
   "id": "b3e9c723-7971-4464-a13a-595cee3f60e2",
   "metadata": {},
   "outputs": [
    {
     "name": "stdout",
     "output_type": "stream",
     "text": [
      "Project Root: C:\\Users\\jampa\\Music\\atlas\n",
      "\n",
      "ERROR: The source UNITE database archive was not found.\n",
      "  - Expected: C:\\Users\\jampa\\Music\\atlas\\data\\raw\\sh_general_release_dynamic_29.11.2022.tgz\n",
      "Please ensure the file is downloaded and correctly named in the 'data/raw' directory.\n"
     ]
    }
   ],
   "source": [
    "# =============================================================================\n",
    "# ATLAS - ITS PIPELINE - SETUP AND PATH DEFINITIONS\n",
    "# =============================================================================\n",
    "#\n",
    "# OBJECTIVE:\n",
    "#   To configure the notebook environment for the ITS pipeline, define all\n",
    "#   necessary file paths, and verify that the source data is accessible.\n",
    "#\n",
    "# =============================================================================\n",
    "\n",
    "# --- Imports ---\n",
    "import pandas as pd\n",
    "import numpy as np\n",
    "from Bio import SeqIO\n",
    "from tqdm.auto import tqdm\n",
    "from pathlib import Path\n",
    "import sys\n",
    "import tarfile # Required for reading from .tgz archives\n",
    "import io      # Required for stream handling\n",
    "\n",
    "# --- Setup Project Path ---\n",
    "project_root = Path.cwd().parent\n",
    "print(f\"Project Root: {project_root}\")\n",
    "\n",
    "# --- Define Core Directories ---\n",
    "RAW_DATA_DIR = project_root / \"data\" / \"raw\"\n",
    "PROCESSED_DATA_DIR = project_root / \"data\" / \"processed\"\n",
    "PROCESSED_DATA_DIR.mkdir(parents=True, exist_ok=True)\n",
    "\n",
    "# --- Define ITS Specific File Paths ---\n",
    "\n",
    "# NOTE: The exact filename for the UNITE release may change.\n",
    "# Update the filename below to match your downloaded file.\n",
    "FULL_UNITE_PATH = RAW_DATA_DIR / \"sh_general_release_dynamic_29.11.2022.tgz\"\n",
    "\n",
    "# Path to the small sample file we will create for development\n",
    "SAMPLE_UNITE_PATH = RAW_DATA_DIR / \"UNITE_sample_10k.fasta\"\n",
    "\n",
    "# --- Verification Step ---\n",
    "if FULL_UNITE_PATH.exists():\n",
    "    print(\"\\nSource UNITE database archive found.\")\n",
    "    print(f\"  - Location: {FULL_UNITE_PATH}\")\n",
    "else:\n",
    "    print(f\"\\nERROR: The source UNITE database archive was not found.\")\n",
    "    print(f\"  - Expected: {FULL_UNITE_PATH}\")\n",
    "    print(\"Please ensure the file is downloaded and correctly named in the 'data/raw' directory.\")"
   ]
  },
  {
   "cell_type": "code",
   "execution_count": null,
   "id": "74bc3d6c-607b-46df-ad82-248cdadeba4d",
   "metadata": {},
   "outputs": [],
   "source": []
  }
 ],
 "metadata": {
  "kernelspec": {
   "display_name": "Python 3 (ipykernel)",
   "language": "python",
   "name": "python3"
  },
  "language_info": {
   "codemirror_mode": {
    "name": "ipython",
    "version": 3
   },
   "file_extension": ".py",
   "mimetype": "text/x-python",
   "name": "python",
   "nbconvert_exporter": "python",
   "pygments_lexer": "ipython3",
   "version": "3.10.18"
  }
 },
 "nbformat": 4,
 "nbformat_minor": 5
}
