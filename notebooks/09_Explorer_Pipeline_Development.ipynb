{
 "cells": [
  {
   "cell_type": "code",
   "execution_count": 1,
   "id": "7882a96e-398e-432d-94a6-e78a9864ddf8",
   "metadata": {},
   "outputs": [
    {
     "name": "stdout",
     "output_type": "stream",
     "text": [
      "Project Root: C:\\Users\\jampa\\Music\\atlas\n",
      "\n",
      "Environment is set up. Ready to begin Explorer pipeline development.\n"
     ]
    }
   ],
   "source": [
    "#\n",
    "# -----------------------------------------------------------------------------\n",
    "#\n",
    "#             ATLAS v3: \"Explorer\" Unsupervised Pipeline Development\n",
    "#\n",
    "# -----------------------------------------------------------------------------\n",
    "#\n",
    "#   OBJECTIVE:\n",
    "#\n",
    "#       To develop the \"Explorer\" pipeline, the unsupervised learning component\n",
    "#       of ATLAS. This pipeline is responsible for processing sequences that\n",
    "#       were NOT classified by the \"Filter\" models, discovering novel taxonomic\n",
    "#       groups, and providing a \"best guess\" annotation for them.\n",
    "#\n",
    "#   METHODOLOGY:\n",
    "#\n",
    "#       1.  Simulate Input: Create a sample FASTA file of \"unclassified\"\n",
    "#           sequences for development purposes.\n",
    "#       2.  Sequence Vectorization: Implement the Doc2Vec algorithm to convert\n",
    "#           raw DNA sequences into meaningful numerical vectors (embeddings).\n",
    "#           This involves creating a \"corpus\" of k-mers and training a model.\n",
    "#       3.  Clustering: Apply the HDBSCAN algorithm to the sequence vectors\n",
    "#           to group them into clusters of related organisms. HDBSCAN is\n",
    "#           chosen for its ability to handle noise and find clusters of\n",
    "#           varying shapes.\n",
    "#       4.  Interpretation: For each discovered cluster, select a representative\n",
    "#           sequence and (conceptually) outline how a BLAST search would be\n",
    "#           used to provide a taxonomic hypothesis.\n",
    "#\n",
    "# -----------------------------------------------------------------------------\n",
    "#\n",
    "\n",
    "# --- Imports ---\n",
    "import pandas as pd\n",
    "import numpy as np\n",
    "from Bio import SeqIO\n",
    "from tqdm.auto import tqdm\n",
    "from pathlib import Path\n",
    "import sys\n",
    "from collections import Counter\n",
    "\n",
    "# Gensim for Doc2Vec\n",
    "from gensim.models.doc2vec import Doc2Vec, TaggedDocument\n",
    "\n",
    "# HDBSCAN for clustering\n",
    "import hdbscan\n",
    "\n",
    "# Scikit-learn for helper functions\n",
    "from sklearn.preprocessing import normalize\n",
    "\n",
    "# --- Setup Project Path ---\n",
    "try:\n",
    "    project_root = Path(__file__).parent.parent\n",
    "except NameError:\n",
    "    project_root = Path.cwd().parent\n",
    "\n",
    "print(f\"Project Root: {project_root}\")\n",
    "\n",
    "# --- Define Directories ---\n",
    "# We will use the existing directory structure\n",
    "RAW_DATA_DIR = project_root / \"data\" / \"raw\"\n",
    "MODELS_DIR = project_root / \"models\"\n",
    "MODELS_DIR.mkdir(parents=True, exist_ok=True)\n",
    "\n",
    "# --- Verification ---\n",
    "print(\"\\nEnvironment is set up. Ready to begin Explorer pipeline development.\")"
   ]
  },
  {
   "cell_type": "code",
   "execution_count": null,
   "id": "97c40883-fc4c-4cf0-97ce-d5404399e232",
   "metadata": {},
   "outputs": [],
   "source": []
  }
 ],
 "metadata": {
  "kernelspec": {
   "display_name": "Python 3 (ipykernel)",
   "language": "python",
   "name": "python3"
  },
  "language_info": {
   "codemirror_mode": {
    "name": "ipython",
    "version": 3
   },
   "file_extension": ".py",
   "mimetype": "text/x-python",
   "name": "python",
   "nbconvert_exporter": "python",
   "pygments_lexer": "ipython3",
   "version": "3.10.18"
  }
 },
 "nbformat": 4,
 "nbformat_minor": 5
}
