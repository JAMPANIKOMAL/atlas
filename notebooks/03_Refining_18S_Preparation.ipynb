{
 "cells": [
  {
   "cell_type": "markdown",
   "id": "e8138e9b-575f-4fb0-85b8-1fb5061eae5d",
   "metadata": {},
   "source": [
    "# 18S Data Preparation: Refinement and Development\n",
    "\n",
    "**Objective:** Refine the data preparation pipeline for the 18S rRNA gene (Eukaryotes) using the SILVA database.\n",
    "\n",
    "**Methodology:**\n",
    "1.  Filter the full SILVA database to create a dedicated `Eukaryotes_only.fasta` file. This is a one-time, computationally intensive step.\n",
    "2.  Create a small, manageable sample from this Eukaryote-only file for rapid development.\n",
    "3.  Develop and test a robust taxonomy parser specifically designed for the complexities of eukaryotic lineages.\n",
    "4.  Apply the full data cleaning and feature engineering workflow, and save the final artifacts."
   ]
  },
  {
   "cell_type": "code",
   "execution_count": 1,
   "id": "25ac9057-045e-44e7-9a79-19abc4bc5fad",
   "metadata": {},
   "outputs": [
    {
     "name": "stdout",
     "output_type": "stream",
     "text": [
      "Project Root: C:\\Users\\jampa\\Music\\atlas-v3\n"
     ]
    }
   ],
   "source": [
    "import pandas as pd\n",
    "import numpy as np\n",
    "from Bio import SeqIO\n",
    "from tqdm.auto import tqdm\n",
    "from pathlib import Path\n",
    "import sys\n",
    "\n",
    "# Set up project path\n",
    "project_root = Path.cwd().parent\n",
    "\n",
    "# --- Verification Step ---\n",
    "print(f\"Project Root: {project_root}\")"
   ]
  },
  {
   "cell_type": "code",
   "execution_count": 2,
   "id": "a3eb1f7a-329a-4f4a-a7a1-736f5bb5d6c5",
   "metadata": {},
   "outputs": [
    {
     "name": "stdout",
     "output_type": "stream",
     "text": [
      "Source SILVA database found.\n",
      "  - Location: C:\\Users\\jampa\\Music\\atlas-v3\\data\\raw\\SILVA_138.1_SSURef_NR99_tax_silva.fasta\n"
     ]
    }
   ],
   "source": [
    "# --- Define Core Directories ---\n",
    "RAW_DATA_DIR = project_root / \"data\" / \"raw\"\n",
    "PROCESSED_DATA_DIR = project_root / \"data\" / \"processed\"\n",
    "\n",
    "# Create the processed data directory if it doesn't exist\n",
    "PROCESSED_DATA_DIR.mkdir(parents=True, exist_ok=True)\n",
    "\n",
    "# --- Define 18S Specific File Paths ---\n",
    "\n",
    "# Path to the full, original SILVA database file (our main source)\n",
    "FULL_SILVA_PATH = RAW_DATA_DIR / \"SILVA_138.1_SSURef_NR99_tax_silva.fasta\"\n",
    "\n",
    "# Path to the intermediate file we will create, containing ONLY eukaryotes\n",
    "EUKARYOTE_ONLY_PATH = RAW_DATA_DIR / \"SILVA_eukaryotes_only.fasta\"\n",
    "\n",
    "# Path to the small sample file we will create from the eukaryote-only file\n",
    "SAMPLE_EUKARYOTE_PATH = RAW_DATA_DIR / \"SILVA_eukaryotes_sample_10k.fasta\"\n",
    "\n",
    "# --- Verification Step ---\n",
    "if FULL_SILVA_PATH.exists():\n",
    "    print(\"Source SILVA database found.\")\n",
    "    print(f\"  - Location: {FULL_SILVA_PATH}\")\n",
    "else:\n",
    "    print(f\"ERROR: The source SILVA database was not found at the expected location.\")\n",
    "    print(f\"  - Expected: {FULL_SILVA_PATH}\")\n",
    "    print(\"Please download the file and place it in the 'data/raw' directory before proceeding.\")"
   ]
  },
  {
   "cell_type": "code",
   "execution_count": null,
   "id": "10402cec-3491-4173-8504-acb208a8a2eb",
   "metadata": {},
   "outputs": [],
   "source": []
  }
 ],
 "metadata": {
  "kernelspec": {
   "display_name": "Python 3 (ipykernel)",
   "language": "python",
   "name": "python3"
  },
  "language_info": {
   "codemirror_mode": {
    "name": "ipython",
    "version": 3
   },
   "file_extension": ".py",
   "mimetype": "text/x-python",
   "name": "python",
   "nbconvert_exporter": "python",
   "pygments_lexer": "ipython3",
   "version": "3.10.18"
  }
 },
 "nbformat": 4,
 "nbformat_minor": 5
}
