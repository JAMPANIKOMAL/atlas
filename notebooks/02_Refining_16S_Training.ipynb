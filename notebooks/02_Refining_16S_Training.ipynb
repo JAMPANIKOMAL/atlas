{
 "cells": [
  {
   "cell_type": "markdown",
   "id": "54d4d919-9086-4bd0-9533-87ddf6232260",
   "metadata": {},
   "source": [
    "# 16S Model Training and Evaluation\n",
    "\n",
    "**Objective:** To build, train, and evaluate a deep learning classifier for the 16S rRNA gene using the pre-processed data.\n",
    "\n",
    "**Methodology:**\n",
    "1. Load the training/testing data and encoders from disk.\n",
    "2. Define the neural network architecture using TensorFlow/Keras.\n",
    "3. Train the model on the training data, using the GPU if available.\n",
    "4. Evaluate the final model's accuracy on the unseen test data."
   ]
  },
  {
   "cell_type": "code",
   "execution_count": 1,
   "id": "7c866ac0-2727-4016-bb94-936338adb111",
   "metadata": {},
   "outputs": [
    {
     "name": "stdout",
     "output_type": "stream",
     "text": [
      "--- TensorFlow Setup ---\n",
      "TensorFlow Version: 2.10.1\n",
      "✅ GPU detected: PhysicalDevice(name='/physical_device:GPU:0', device_type='GPU')\n",
      "--------------------------\n"
     ]
    }
   ],
   "source": [
    "import numpy as np\n",
    "import tensorflow as tf\n",
    "from scipy.sparse import load_npz\n",
    "import pickle\n",
    "from pathlib import Path\n",
    "import sys\n",
    "\n",
    "# Set up project path\n",
    "project_root = Path.cwd().parent\n",
    "sys.path.append(str(project_root))\n",
    "\n",
    "# --- Verification Step: Check for GPU ---\n",
    "# This will tell us if TensorFlow can see your GPU.\n",
    "print(\"--- TensorFlow Setup ---\")\n",
    "print(f\"TensorFlow Version: {tf.__version__}\")\n",
    "gpu_devices = tf.config.list_physical_devices('GPU')\n",
    "if gpu_devices:\n",
    "    print(f\"✅ GPU detected: {gpu_devices[0]}\")\n",
    "else:\n",
    "    print(\"⚠️ No GPU detected. TensorFlow will run on CPU.\")\n",
    "print(\"-\" * 26)"
   ]
  },
  {
   "cell_type": "markdown",
   "id": "46b92b03-1dbf-4385-bf3b-44a02129c5bf",
   "metadata": {},
   "source": [
    "### Step 2: Load Pre-processed Data and Encoders\n",
    "\n",
    "We will now load all the artifacts that were saved by our data preparation notebook. This includes the training data, testing data, and the crucial `vectorizer` and `label_encoder` objects."
   ]
  },
  {
   "cell_type": "code",
   "execution_count": 2,
   "id": "893ba25a-a7c8-4eb5-8eb6-5a8b9546301f",
   "metadata": {},
   "outputs": [
    {
     "name": "stdout",
     "output_type": "stream",
     "text": [
      "Loading data from disk...\n",
      "✅ Data loading complete.\n",
      "\n",
      "--- Loaded Data Shapes ---\n",
      "Shape of X_train: (4744, 13261)\n",
      "Shape of y_train: (4744,)\n",
      "------------------------------\n",
      "Shape of X_test:  (1186, 13261)\n",
      "Shape of y_test:  (1186,)\n",
      "Number of classes (genera): 529\n"
     ]
    }
   ],
   "source": [
    "# --- Define file paths ---\n",
    "PROCESSED_DATA_DIR = project_root / \"data\" / \"processed\"\n",
    "MODELS_DIR = project_root / \"models\"\n",
    "\n",
    "X_TRAIN_PATH = PROCESSED_DATA_DIR / \"X_train_16s.npz\"\n",
    "X_TEST_PATH = PROCESSED_DATA_DIR / \"X_test_16s.npz\"\n",
    "Y_TRAIN_PATH = PROCESSED_DATA_DIR / \"y_train_16s.npy\"\n",
    "Y_TEST_PATH = PROCESSED_DATA_DIR / \"y_test_16s.npy\"\n",
    "\n",
    "VECTORIZER_PATH = MODELS_DIR / \"16s_genus_vectorizer.pkl\"\n",
    "LABEL_ENCODER_PATH = MODELS_DIR / \"16s_genus_label_encoder.pkl\"\n",
    "\n",
    "\n",
    "# --- Load the data and encoders ---\n",
    "print(\"Loading data from disk...\")\n",
    "X_train = load_npz(X_TRAIN_PATH)\n",
    "X_test = load_npz(X_TEST_PATH)\n",
    "y_train = np.load(Y_TRAIN_PATH)\n",
    "y_test = np.load(Y_TEST_PATH)\n",
    "\n",
    "with open(LABEL_ENCODER_PATH, 'rb') as f:\n",
    "    label_encoder = pickle.load(f)\n",
    "\n",
    "# Note: We don't need to load the vectorizer right now, but we will need it for a final script.\n",
    "# The label_encoder is important because it tells us the number of classes.\n",
    "print(\"✅ Data loading complete.\")\n",
    "\n",
    "\n",
    "# --- Verification Step ---\n",
    "print(\"\\n--- Loaded Data Shapes ---\")\n",
    "print(f\"Shape of X_train: {X_train.shape}\")\n",
    "print(f\"Shape of y_train: {y_train.shape}\")\n",
    "print(\"-\" * 30)\n",
    "print(f\"Shape of X_test:  {X_test.shape}\")\n",
    "print(f\"Shape of y_test:  {y_test.shape}\")\n",
    "print(f\"Number of classes (genera): {len(label_encoder.classes_)}\")"
   ]
  },
  {
   "cell_type": "markdown",
   "id": "e34222ab-f697-4762-b3b3-bea2714fa00d",
   "metadata": {},
   "source": [
    "### Step 3: Define the Neural Network Architecture\n",
    "\n",
    "We will now define our deep learning model using the Keras `Sequential` API. The architecture will consist of a series of layers:\n",
    "\n",
    "-   An **Input Layer** that accepts our k-mer feature vectors.\n",
    "-   Two hidden **Dense** layers with ReLU activation, which act as the primary learning components of the network.\n",
    "-   **Dropout** layers placed after each Dense layer to prevent the model from overfitting to the training data.\n",
    "-   An **Output Layer** with a `softmax` activation function, which will output the probability for each of the possible genera.\n",
    "\n",
    "The model will then be compiled with an `adam` optimizer and a `sparse_categorical_crossentropy` loss function, which are standard and effective choices for multi-class classification."
   ]
  },
  {
   "cell_type": "code",
   "execution_count": 3,
   "id": "c7d13394-a57d-4129-97f9-9dfc1f07f4d4",
   "metadata": {},
   "outputs": [
    {
     "name": "stdout",
     "output_type": "stream",
     "text": [
      "Model Architecture Defined and Compiled.\n",
      "Here is a summary:\n",
      "\n",
      "+-----------------------------------------------------------------+\n",
      "| Input Layer:         (None, 13261)                     |\n",
      "| Dense Layer (ReLU):    (None, 2048)                               |\n",
      "| Dropout (0.5):         (None, 2048)                               |\n",
      "| Dense Layer (ReLU):    (None, 1024)                               |\n",
      "| Dropout (0.5):         (None, 1024)                               |\n",
      "| Output Layer (Softmax):(None, 529)                                |\n",
      "+-----------------------------------------------------------------+\n",
      "\n",
      "Model: \"sequential\"\n",
      "_________________________________________________________________\n",
      " Layer (type)                Output Shape              Param #   \n",
      "=================================================================\n",
      " dense (Dense)               (None, 2048)              27160576  \n",
      "                                                                 \n",
      " dropout (Dropout)           (None, 2048)              0         \n",
      "                                                                 \n",
      " dense_1 (Dense)             (None, 1024)              2098176   \n",
      "                                                                 \n",
      " dropout_1 (Dropout)         (None, 1024)              0         \n",
      "                                                                 \n",
      " dense_2 (Dense)             (None, 529)               542225    \n",
      "                                                                 \n",
      "=================================================================\n",
      "Total params: 29,800,977\n",
      "Trainable params: 29,800,977\n",
      "Non-trainable params: 0\n",
      "_________________________________________________________________\n"
     ]
    }
   ],
   "source": [
    "from tensorflow.keras.models import Sequential\n",
    "from tensorflow.keras.layers import Dense, Dropout\n",
    "\n",
    "# --- Get model parameters from our loaded data ---\n",
    "num_classes = len(label_encoder.classes_)\n",
    "input_shape = X_train.shape[1] # The number of unique k-mer features\n",
    "\n",
    "# --- Define the Sequential model ---\n",
    "model = Sequential([\n",
    "    # Input layer and first hidden layer\n",
    "    Dense(2048, activation='relu', input_shape=(input_shape,)),\n",
    "    Dropout(0.5),\n",
    "    \n",
    "    # Second hidden layer\n",
    "    Dense(1024, activation='relu'),\n",
    "    Dropout(0.5),\n",
    "    \n",
    "    # Output layer\n",
    "    Dense(num_classes, activation='softmax')\n",
    "])\n",
    "\n",
    "# --- Compile the model ---\n",
    "model.compile(\n",
    "    optimizer='adam',\n",
    "    loss='sparse_categorical_crossentropy',\n",
    "    metrics=['accuracy']\n",
    ")\n",
    "\n",
    "# --- Print a summary of the model's architecture ---\n",
    "print(\"Model Architecture Defined and Compiled.\")\n",
    "print(\"Here is a summary:\")\n",
    "\n",
    "# ASCII Art representation\n",
    "print(\"\\n+-----------------------------------------------------------------+\")\n",
    "print(f\"| Input Layer:         (None, {input_shape})                     |\")\n",
    "print(\"| Dense Layer (ReLU):    (None, 2048)                               |\")\n",
    "print(\"| Dropout (0.5):         (None, 2048)                               |\")\n",
    "print(\"| Dense Layer (ReLU):    (None, 1024)                               |\")\n",
    "print(\"| Dropout (0.5):         (None, 1024)                               |\")\n",
    "print(f\"| Output Layer (Softmax):(None, {num_classes})                                |\")\n",
    "print(\"+-----------------------------------------------------------------+\\n\")\n",
    "\n",
    "model.summary()"
   ]
  },
  {
   "cell_type": "code",
   "execution_count": null,
   "id": "ef98be62-6c28-4099-841c-b77cd54feca8",
   "metadata": {},
   "outputs": [],
   "source": []
  }
 ],
 "metadata": {
  "kernelspec": {
   "display_name": "Python 3 (ipykernel)",
   "language": "python",
   "name": "python3"
  },
  "language_info": {
   "codemirror_mode": {
    "name": "ipython",
    "version": 3
   },
   "file_extension": ".py",
   "mimetype": "text/x-python",
   "name": "python",
   "nbconvert_exporter": "python",
   "pygments_lexer": "ipython3",
   "version": "3.10.18"
  }
 },
 "nbformat": 4,
 "nbformat_minor": 5
}
