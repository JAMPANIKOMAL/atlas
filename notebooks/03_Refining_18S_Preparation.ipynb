{
 "cells": [
  {
   "cell_type": "markdown",
   "id": "e8138e9b-575f-4fb0-85b8-1fb5061eae5d",
   "metadata": {},
   "source": [
    "# 18S Data Preparation: Refinement and Development\n",
    "\n",
    "**Objective:** Refine the data preparation pipeline for the 18S rRNA gene (Eukaryotes) using the SILVA database.\n",
    "\n",
    "**Methodology:**\n",
    "1.  Filter the full SILVA database to create a dedicated `Eukaryotes_only.fasta` file. This is a one-time, computationally intensive step.\n",
    "2.  Create a small, manageable sample from this Eukaryote-only file for rapid development.\n",
    "3.  Develop and test a robust taxonomy parser specifically designed for the complexities of eukaryotic lineages.\n",
    "4.  Apply the full data cleaning and feature engineering workflow, and save the final artifacts."
   ]
  },
  {
   "cell_type": "code",
   "execution_count": 1,
   "id": "25ac9057-045e-44e7-9a79-19abc4bc5fad",
   "metadata": {},
   "outputs": [
    {
     "name": "stdout",
     "output_type": "stream",
     "text": [
      "Project Root: C:\\Users\\jampa\\Music\\atlas-v3\n"
     ]
    }
   ],
   "source": [
    "import pandas as pd\n",
    "import numpy as np\n",
    "from Bio import SeqIO\n",
    "from tqdm.auto import tqdm\n",
    "from pathlib import Path\n",
    "import sys\n",
    "\n",
    "# Set up project path\n",
    "project_root = Path.cwd().parent\n",
    "\n",
    "# --- Verification Step ---\n",
    "print(f\"Project Root: {project_root}\")"
   ]
  },
  {
   "cell_type": "code",
   "execution_count": 2,
   "id": "a3eb1f7a-329a-4f4a-a7a1-736f5bb5d6c5",
   "metadata": {},
   "outputs": [
    {
     "name": "stdout",
     "output_type": "stream",
     "text": [
      "Source SILVA database found.\n",
      "  - Location: C:\\Users\\jampa\\Music\\atlas-v3\\data\\raw\\SILVA_138.1_SSURef_NR99_tax_silva.fasta\n"
     ]
    }
   ],
   "source": [
    "# --- Define Core Directories ---\n",
    "RAW_DATA_DIR = project_root / \"data\" / \"raw\"\n",
    "PROCESSED_DATA_DIR = project_root / \"data\" / \"processed\"\n",
    "\n",
    "# Create the processed data directory if it doesn't exist\n",
    "PROCESSED_DATA_DIR.mkdir(parents=True, exist_ok=True)\n",
    "\n",
    "# --- Define 18S Specific File Paths ---\n",
    "\n",
    "# Path to the full, original SILVA database file (our main source)\n",
    "FULL_SILVA_PATH = RAW_DATA_DIR / \"SILVA_138.1_SSURef_NR99_tax_silva.fasta\"\n",
    "\n",
    "# Path to the intermediate file we will create, containing ONLY eukaryotes\n",
    "EUKARYOTE_ONLY_PATH = RAW_DATA_DIR / \"SILVA_eukaryotes_only.fasta\"\n",
    "\n",
    "# Path to the small sample file we will create from the eukaryote-only file\n",
    "SAMPLE_EUKARYOTE_PATH = RAW_DATA_DIR / \"SILVA_eukaryotes_sample_10k.fasta\"\n",
    "\n",
    "# --- Verification Step ---\n",
    "if FULL_SILVA_PATH.exists():\n",
    "    print(\"Source SILVA database found.\")\n",
    "    print(f\"  - Location: {FULL_SILVA_PATH}\")\n",
    "else:\n",
    "    print(f\"ERROR: The source SILVA database was not found at the expected location.\")\n",
    "    print(f\"  - Expected: {FULL_SILVA_PATH}\")\n",
    "    print(\"Please download the file and place it in the 'data/raw' directory before proceeding.\")"
   ]
  },
  {
   "cell_type": "markdown",
   "id": "2db75bd5-e2e3-40e6-95a3-e7c793162cbe",
   "metadata": {},
   "source": [
    "### Step 1: Filter Full SILVA Database for Eukaryotes\n",
    "\n",
    "This is a one-time, computationally intensive step. We will read the entire source SILVA database and write a new FASTA file containing only the sequences belonging to the \"Eukaryota\" kingdom.\n",
    "\n",
    "This script is designed to be run only once. If the `SILVA_eukaryotes_only.fasta` file is found, this step will be skipped."
   ]
  },
  {
   "cell_type": "code",
   "execution_count": 3,
   "id": "9cc12fd1-eb7c-46e6-aa1e-141345d365f6",
   "metadata": {},
   "outputs": [
    {
     "name": "stdout",
     "output_type": "stream",
     "text": [
      "Eukaryote-only file not found. Starting filtering process...\n",
      "This will take a significant amount of time. Please be patient.\n"
     ]
    },
    {
     "data": {
      "application/vnd.jupyter.widget-view+json": {
       "model_id": "ca42ca35a8e04c57a1ad79e30466e118",
       "version_major": 2,
       "version_minor": 0
      },
      "text/plain": [
       "Filtering full SILVA DB: 0it [00:00, ?it/s]"
      ]
     },
     "metadata": {},
     "output_type": "display_data"
    },
    {
     "name": "stdout",
     "output_type": "stream",
     "text": [
      "\n",
      "✅ Filtering complete.\n",
      "   Found and wrote 58,545 Eukaryote sequences.\n",
      "   New file created at: C:\\Users\\jampa\\Music\\atlas-v3\\data\\raw\\SILVA_eukaryotes_only.fasta\n"
     ]
    }
   ],
   "source": [
    "# This check prevents us from re-running this long process unnecessarily.\n",
    "if not EUKARYOTE_ONLY_PATH.exists():\n",
    "    print(f\"Eukaryote-only file not found. Starting filtering process...\")\n",
    "    print(\"This will take a significant amount of time. Please be patient.\")\n",
    "    \n",
    "    eukaryote_count = 0\n",
    "    \n",
    "    # Open both the input and output files\n",
    "    with open(FULL_SILVA_PATH, \"r\") as handle_in, open(EUKARYOTE_ONLY_PATH, \"w\") as handle_out:\n",
    "        # Use tqdm to monitor the progress of this long-running task\n",
    "        for record in tqdm(SeqIO.parse(handle_in, \"fasta\"), desc=\"Filtering full SILVA DB\"):\n",
    "            # Check for the keyword \"Eukaryota\" in the description\n",
    "            if \"Eukaryota\" in record.description:\n",
    "                # Write the record to our new file\n",
    "                SeqIO.write(record, handle_out, \"fasta\")\n",
    "                eukaryote_count += 1\n",
    "                \n",
    "    print(f\"\\n✅ Filtering complete.\")\n",
    "    print(f\"   Found and wrote {eukaryote_count:,} Eukaryote sequences.\")\n",
    "    print(f\"   New file created at: {EUKARYOTE_ONLY_PATH}\")\n",
    "\n",
    "else:\n",
    "    print(f\"✅ Eukaryote-only file already exists. Skipping filtering step.\")\n",
    "    print(f\"   Location: {EUKARYOTE_ONLY_PATH}\")"
   ]
  },
  {
   "cell_type": "markdown",
   "id": "4c6dca25-6d83-4ddd-a85b-88b02fa50249",
   "metadata": {},
   "source": [
    "### Step 2: Create a Development Sample from Eukaryote Data\n",
    "\n",
    "Now that we have a clean file containing only Eukaryote sequences, we will create a smaller 10,000-sequence sample. This will serve as our development dataset for the rest of this notebook, ensuring all subsequent steps are fast and interactive."
   ]
  },
  {
   "cell_type": "code",
   "execution_count": 4,
   "id": "46829734-f195-4205-86dc-8fd71f2fa742",
   "metadata": {},
   "outputs": [
    {
     "name": "stdout",
     "output_type": "stream",
     "text": [
      "Creating a sample of 10000 Eukaryote sequences...\n"
     ]
    },
    {
     "data": {
      "application/vnd.jupyter.widget-view+json": {
       "model_id": "efebbf2d6f7c469f8e215f42bf35126c",
       "version_major": 2,
       "version_minor": 0
      },
      "text/plain": [
       "  0%|          | 0/10000 [00:00<?, ?it/s]"
      ]
     },
     "metadata": {},
     "output_type": "display_data"
    },
    {
     "name": "stdout",
     "output_type": "stream",
     "text": [
      "\n",
      "✅ Successfully created sample file with 10000 sequences.\n",
      "   Location: C:\\Users\\jampa\\Music\\atlas-v3\\data\\raw\\SILVA_eukaryotes_sample_10k.fasta\n"
     ]
    }
   ],
   "source": [
    "SAMPLE_SIZE = 10000\n",
    "\n",
    "# We only create the sample file if it doesn't already exist.\n",
    "if not SAMPLE_EUKARYOTE_PATH.exists():\n",
    "    print(f\"Creating a sample of {SAMPLE_SIZE} Eukaryote sequences...\")\n",
    "    \n",
    "    sample_records = []\n",
    "    with open(EUKARYOTE_ONLY_PATH, \"r\") as handle_in:\n",
    "        # Use a generator expression for memory efficiency\n",
    "        records_iterator = (record for record in SeqIO.parse(handle_in, \"fasta\"))\n",
    "        \n",
    "        # Use tqdm to show progress\n",
    "        for i, record in tqdm(enumerate(records_iterator), total=SAMPLE_SIZE):\n",
    "            if i >= SAMPLE_SIZE:\n",
    "                break\n",
    "            sample_records.append(record)\n",
    "            \n",
    "    # Write the collected sample records to the new file\n",
    "    with open(SAMPLE_EUKARYOTE_PATH, \"w\") as handle_out:\n",
    "        SeqIO.write(sample_records, handle_out, \"fasta\")\n",
    "        \n",
    "    print(f\"\\n✅ Successfully created sample file with {len(sample_records)} sequences.\")\n",
    "    print(f\"   Location: {SAMPLE_EUKARYOTE_PATH}\")\n",
    "else:\n",
    "    print(f\"✅ Eukaryote sample file already exists. No action needed.\")\n",
    "    print(f\"   Location: {SAMPLE_EUKARYOTE_PATH}\")"
   ]
  },
  {
   "cell_type": "code",
   "execution_count": null,
   "id": "c30c7804-6384-4c88-9972-ba2e435e5ee6",
   "metadata": {},
   "outputs": [],
   "source": []
  }
 ],
 "metadata": {
  "kernelspec": {
   "display_name": "Python 3 (ipykernel)",
   "language": "python",
   "name": "python3"
  },
  "language_info": {
   "codemirror_mode": {
    "name": "ipython",
    "version": 3
   },
   "file_extension": ".py",
   "mimetype": "text/x-python",
   "name": "python",
   "nbconvert_exporter": "python",
   "pygments_lexer": "ipython3",
   "version": "3.10.18"
  }
 },
 "nbformat": 4,
 "nbformat_minor": 5
}
