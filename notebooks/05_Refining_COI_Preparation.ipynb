{
 "cells": [
  {
   "cell_type": "markdown",
   "id": "fa0cb662-8edb-4e6b-aeae-a2b7fd00132c",
   "metadata": {},
   "source": [
    "# COI Data Preparation: Refinement and Development\n",
    "\n",
    "**Objective:** Refine the data preparation pipeline for the COI gene, the primary barcode for animal identification, using the BOLD database.\n",
    "\n",
    "**Methodology:**\n",
    "1.  Work from a small, manageable sample of the full BOLD database.\n",
    "2.  Develop a new taxonomy parser specifically designed for the pipe-separated (`|`) format of BOLD FASTA headers.\n",
    "3.  Apply the full data cleaning and feature engineering workflow.\n",
    "4.  Save the final, uniquely named artifacts for the COI pipeline."
   ]
  },
  {
   "cell_type": "code",
   "execution_count": 1,
   "id": "9544b2c0-fdfc-487e-ba7f-1da3bb40981c",
   "metadata": {},
   "outputs": [
    {
     "name": "stdout",
     "output_type": "stream",
     "text": [
      "Project Root: C:\\Users\\jampa\\Music\\atlas-v3\n"
     ]
    }
   ],
   "source": [
    "import pandas as pd\n",
    "import numpy as np\n",
    "from Bio import SeqIO\n",
    "from tqdm.auto import tqdm\n",
    "from pathlib import Path\n",
    "import sys\n",
    "\n",
    "# Set up project path\n",
    "project_root = Path.cwd().parent\n",
    "\n",
    "# --- Verification Step ---\n",
    "print(f\"Project Root: {project_root}\")"
   ]
  },
  {
   "cell_type": "code",
   "execution_count": 3,
   "id": "37d4c780-3ee8-4b26-b585-7c4090a5b1d0",
   "metadata": {},
   "outputs": [
    {
     "name": "stdout",
     "output_type": "stream",
     "text": [
      "Source BOLD database found.\n",
      "  - Location: C:\\Users\\jampa\\Music\\atlas-v3\\data\\raw\\BOLD_Public.29-Aug-2025.fasta\n"
     ]
    }
   ],
   "source": [
    "# --- Define Core Directories ---\n",
    "RAW_DATA_DIR = project_root / \"data\" / \"raw\"\n",
    "PROCESSED_DATA_DIR = project_root / \"data\" / \"processed\"\n",
    "PROCESSED_DATA_DIR.mkdir(parents=True, exist_ok=True)\n",
    "\n",
    "# --- Define COI Specific File Paths ---\n",
    "\n",
    "# --- FIX: Use the exact filename of the downloaded BOLD database ---\n",
    "# Path to the full, original BOLD database file\n",
    "FULL_BOLD_PATH = RAW_DATA_DIR / \"BOLD_Public.29-Aug-2025.fasta\"\n",
    "\n",
    "# Path to the small sample file we will create for development\n",
    "SAMPLE_BOLD_PATH = RAW_DATA_DIR / \"BOLD_sample_10k.fasta\"\n",
    "\n",
    "# --- Verification Step ---\n",
    "if FULL_BOLD_PATH.exists():\n",
    "    print(\"Source BOLD database found.\")\n",
    "    print(f\"  - Location: {FULL_BOLD_PATH}\")\n",
    "else:\n",
    "    print(f\"ERROR: The source BOLD database was not found at the expected location.\")\n",
    "    print(f\"  - Expected: {FULL_BOLD_PATH}\")\n",
    "    print(\"Please ensure the file is downloaded and correctly named in the 'data/raw' directory.\")"
   ]
  },
  {
   "cell_type": "code",
   "execution_count": null,
   "id": "d99a1dfd-91b0-49af-910a-9b2b27cb504e",
   "metadata": {},
   "outputs": [],
   "source": []
  }
 ],
 "metadata": {
  "kernelspec": {
   "display_name": "Python 3 (ipykernel)",
   "language": "python",
   "name": "python3"
  },
  "language_info": {
   "codemirror_mode": {
    "name": "ipython",
    "version": 3
   },
   "file_extension": ".py",
   "mimetype": "text/x-python",
   "name": "python",
   "nbconvert_exporter": "python",
   "pygments_lexer": "ipython3",
   "version": "3.10.18"
  }
 },
 "nbformat": 4,
 "nbformat_minor": 5
}
