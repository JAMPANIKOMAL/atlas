{
 "cells": [
  {
   "cell_type": "markdown",
   "id": "8477e711-f561-415a-a736-dffd202354b8",
   "metadata": {},
   "source": [
    "# 18S Model Training and Evaluation\n",
    "\n",
    "**Objective:** To build, train, and evaluate a deep learning classifier for the 18S rRNA gene (Eukaryotes) using the pre-processed data.\n",
    "\n",
    "**Methodology:**\n",
    "1. Load the 18S-specific training/testing data and encoders from disk.\n",
    "2. Define the neural network architecture.\n",
    "3. Train the model on the training data using the GPU.\n",
    "4. Save, reload, and evaluate the final model's accuracy on the unseen test set."
   ]
  },
  {
   "cell_type": "code",
   "execution_count": 1,
   "id": "cfbd40b8-8e82-4b8c-865d-4e96c71c939c",
   "metadata": {},
   "outputs": [
    {
     "name": "stdout",
     "output_type": "stream",
     "text": [
      "--- TensorFlow Setup ---\n",
      "TensorFlow Version: 2.10.1\n",
      "GPU detected: PhysicalDevice(name='/physical_device:GPU:0', device_type='GPU')\n",
      "--------------------------\n"
     ]
    }
   ],
   "source": [
    "import numpy as np\n",
    "import tensorflow as tf\n",
    "from scipy.sparse import load_npz\n",
    "import pickle\n",
    "from pathlib import Path\n",
    "import sys\n",
    "\n",
    "# Set up project path\n",
    "project_root = Path.cwd().parent\n",
    "\n",
    "# --- Verification Step: Check for GPU ---\n",
    "print(\"--- TensorFlow Setup ---\")\n",
    "print(f\"TensorFlow Version: {tf.__version__}\")\n",
    "gpu_devices = tf.config.list_physical_devices('GPU')\n",
    "if gpu_devices:\n",
    "    print(f\"GPU detected: {gpu_devices[0]}\")\n",
    "else:\n",
    "    print(\"WARNING: No GPU detected. TensorFlow will run on CPU.\")\n",
    "print(\"-\" * 26)"
   ]
  },
  {
   "cell_type": "code",
   "execution_count": 2,
   "id": "4a70ef60-91ba-4250-b5f5-4bf149d984dc",
   "metadata": {},
   "outputs": [
    {
     "name": "stdout",
     "output_type": "stream",
     "text": [
      "--- Loading 18S Data ---\n",
      "Data loading complete.\n",
      "\n",
      "--- Loaded Data Shapes ---\n",
      "Shape of X_train: (6427, 14058)\n",
      "Shape of y_train: (6427,)\n",
      "------------------------------\n",
      "Shape of X_test:  (1607, 14058)\n",
      "Shape of y_test:  (1607,)\n",
      "Number of classes (genera): 616\n"
     ]
    }
   ],
   "source": [
    "# --- Define 18S-specific file paths ---\n",
    "PROCESSED_DATA_DIR = project_root / \"data\" / \"processed\"\n",
    "MODELS_DIR = project_root / \"models\"\n",
    "\n",
    "X_TRAIN_PATH = PROCESSED_DATA_DIR / \"X_train_18s.npz\"\n",
    "X_TEST_PATH = PROCESSED_DATA_DIR / \"X_test_18s.npz\"\n",
    "Y_TRAIN_PATH = PROCESSED_DATA_DIR / \"y_train_18s.npy\"\n",
    "Y_TEST_PATH = PROCESSED_DATA_DIR / \"y_test_18s.npy\"\n",
    "\n",
    "LABEL_ENCODER_PATH = MODELS_DIR / \"18s_genus_label_encoder.pkl\"\n",
    "\n",
    "# --- Load the data and encoders ---\n",
    "print(\"--- Loading 18S Data ---\")\n",
    "X_train = load_npz(X_TRAIN_PATH)\n",
    "X_test = load_npz(X_TEST_PATH)\n",
    "y_train = np.load(Y_TRAIN_PATH)\n",
    "y_test = np.load(Y_TEST_PATH)\n",
    "\n",
    "with open(LABEL_ENCODER_PATH, 'rb') as f:\n",
    "    label_encoder = pickle.load(f)\n",
    "print(\"Data loading complete.\")\n",
    "\n",
    "# --- Verification Step ---\n",
    "print(\"\\n--- Loaded Data Shapes ---\")\n",
    "print(f\"Shape of X_train: {X_train.shape}\")\n",
    "print(f\"Shape of y_train: {y_train.shape}\")\n",
    "print(\"-\" * 30)\n",
    "print(f\"Shape of X_test:  {X_test.shape}\")\n",
    "print(f\"Shape of y_test:  {y_test.shape}\")\n",
    "print(f\"Number of classes (genera): {len(label_encoder.classes_)}\")"
   ]
  },
  {
   "cell_type": "code",
   "execution_count": null,
   "id": "f40cca7d-9520-4e9c-be72-3f37c1ca92da",
   "metadata": {},
   "outputs": [],
   "source": []
  }
 ],
 "metadata": {
  "kernelspec": {
   "display_name": "Python 3 (ipykernel)",
   "language": "python",
   "name": "python3"
  },
  "language_info": {
   "codemirror_mode": {
    "name": "ipython",
    "version": 3
   },
   "file_extension": ".py",
   "mimetype": "text/x-python",
   "name": "python",
   "nbconvert_exporter": "python",
   "pygments_lexer": "ipython3",
   "version": "3.10.18"
  }
 },
 "nbformat": 4,
 "nbformat_minor": 5
}
